{
 "cells": [
  {
   "cell_type": "code",
   "execution_count": 4,
   "id": "b1bcfb55",
   "metadata": {},
   "outputs": [],
   "source": [
    "from ac_dll_grammar_vae.data import CFGEquationDataset\n",
    "from ac_dll_grammar_vae.data.transforms import MathTokenEmbedding\n",
    "from ac_dll_grammar_vae.data.alphabet import alphabet as math_alphabet"
   ]
  },
  {
   "cell_type": "code",
   "execution_count": 5,
   "id": "9275b5ef",
   "metadata": {},
   "outputs": [],
   "source": [
    "data = CFGEquationDataset()"
   ]
  },
  {
   "cell_type": "code",
   "execution_count": 10,
   "id": "110d3dc9",
   "metadata": {},
   "outputs": [
    {
     "data": {
      "text/plain": [
       "['x', '+', '2']"
      ]
     },
     "execution_count": 10,
     "metadata": {},
     "output_type": "execute_result"
    }
   ],
   "source": [
    "data[42]"
   ]
  },
  {
   "cell_type": "code",
   "execution_count": 11,
   "id": "7cbf082d",
   "metadata": {},
   "outputs": [],
   "source": [
    "emb = MathTokenEmbedding(alphabet=math_alphabet)"
   ]
  },
  {
   "cell_type": "code",
   "execution_count": 12,
   "id": "44333d01",
   "metadata": {},
   "outputs": [
    {
     "ename": "KeyError",
     "evalue": "'2'",
     "output_type": "error",
     "traceback": [
      "\u001b[0;31m---------------------------------------------------------------------------\u001b[0m",
      "\u001b[0;31mKeyError\u001b[0m                                  Traceback (most recent call last)",
      "Cell \u001b[0;32mIn[12], line 1\u001b[0m\n\u001b[0;32m----> 1\u001b[0m \u001b[43memb\u001b[49m\u001b[38;5;241;43m.\u001b[39;49m\u001b[43mdecode\u001b[49m\u001b[43m(\u001b[49m\u001b[43mdata\u001b[49m\u001b[43m[\u001b[49m\u001b[38;5;241;43m42\u001b[39;49m\u001b[43m]\u001b[49m\u001b[43m,\u001b[49m\u001b[43m \u001b[49m\u001b[43mpretty_print\u001b[49m\u001b[38;5;241;43m=\u001b[39;49m\u001b[38;5;28;43;01mTrue\u001b[39;49;00m\u001b[43m)\u001b[49m\n",
      "File \u001b[0;32m~/Documents/Deep Learning Lab 23:34/Schneider_GrammarVAE/code/ac_dll_grammar_vae/ac_dll_grammar_vae/data/transforms.py:23\u001b[0m, in \u001b[0;36mMathTokenEmbedding.decode\u001b[0;34m(self, embeddings, pretty_print)\u001b[0m\n\u001b[1;32m     20\u001b[0m \u001b[38;5;28;01mif\u001b[39;00m \u001b[38;5;28misinstance\u001b[39m(embeddings, torch\u001b[38;5;241m.\u001b[39mTensor):\n\u001b[1;32m     21\u001b[0m     embeddings \u001b[38;5;241m=\u001b[39m embeddings\u001b[38;5;241m.\u001b[39mtolist()\n\u001b[0;32m---> 23\u001b[0m decoded \u001b[38;5;241m=\u001b[39m \u001b[38;5;28;43mlist\u001b[39;49m\u001b[43m(\u001b[49m\u001b[38;5;28;43mmap\u001b[39;49m\u001b[43m(\u001b[49m\u001b[38;5;28;43;01mlambda\u001b[39;49;00m\u001b[43m \u001b[49m\u001b[43me\u001b[49m\u001b[43m:\u001b[49m\u001b[43m \u001b[49m\u001b[38;5;28;43mself\u001b[39;49m\u001b[38;5;241;43m.\u001b[39;49m\u001b[43midx_to_token\u001b[49m\u001b[43m[\u001b[49m\u001b[43me\u001b[49m\u001b[43m]\u001b[49m\u001b[43m,\u001b[49m\u001b[43m \u001b[49m\u001b[43membeddings\u001b[49m\u001b[43m)\u001b[49m\u001b[43m)\u001b[49m\n\u001b[1;32m     25\u001b[0m \u001b[38;5;28;01mif\u001b[39;00m pretty_print:\n\u001b[1;32m     26\u001b[0m     \u001b[38;5;28;01mreturn\u001b[39;00m \u001b[38;5;124m\"\u001b[39m\u001b[38;5;124m \u001b[39m\u001b[38;5;124m\"\u001b[39m\u001b[38;5;241m.\u001b[39mjoin(decoded)\u001b[38;5;241m.\u001b[39mstrip()\n",
      "File \u001b[0;32m~/Documents/Deep Learning Lab 23:34/Schneider_GrammarVAE/code/ac_dll_grammar_vae/ac_dll_grammar_vae/data/transforms.py:23\u001b[0m, in \u001b[0;36mMathTokenEmbedding.decode.<locals>.<lambda>\u001b[0;34m(e)\u001b[0m\n\u001b[1;32m     20\u001b[0m \u001b[38;5;28;01mif\u001b[39;00m \u001b[38;5;28misinstance\u001b[39m(embeddings, torch\u001b[38;5;241m.\u001b[39mTensor):\n\u001b[1;32m     21\u001b[0m     embeddings \u001b[38;5;241m=\u001b[39m embeddings\u001b[38;5;241m.\u001b[39mtolist()\n\u001b[0;32m---> 23\u001b[0m decoded \u001b[38;5;241m=\u001b[39m \u001b[38;5;28mlist\u001b[39m(\u001b[38;5;28mmap\u001b[39m(\u001b[38;5;28;01mlambda\u001b[39;00m e: \u001b[38;5;28;43mself\u001b[39;49m\u001b[38;5;241;43m.\u001b[39;49m\u001b[43midx_to_token\u001b[49m\u001b[43m[\u001b[49m\u001b[43me\u001b[49m\u001b[43m]\u001b[49m, embeddings))\n\u001b[1;32m     25\u001b[0m \u001b[38;5;28;01mif\u001b[39;00m pretty_print:\n\u001b[1;32m     26\u001b[0m     \u001b[38;5;28;01mreturn\u001b[39;00m \u001b[38;5;124m\"\u001b[39m\u001b[38;5;124m \u001b[39m\u001b[38;5;124m\"\u001b[39m\u001b[38;5;241m.\u001b[39mjoin(decoded)\u001b[38;5;241m.\u001b[39mstrip()\n",
      "\u001b[0;31mKeyError\u001b[0m: '2'"
     ]
    }
   ],
   "source": []
  },
  {
   "cell_type": "code",
   "execution_count": null,
   "id": "01d9a576",
   "metadata": {},
   "outputs": [],
   "source": []
  }
 ],
 "metadata": {
  "kernelspec": {
   "display_name": "Python 3 (ipykernel)",
   "language": "python",
   "name": "python3"
  },
  "language_info": {
   "codemirror_mode": {
    "name": "ipython",
    "version": 3
   },
   "file_extension": ".py",
   "mimetype": "text/x-python",
   "name": "python",
   "nbconvert_exporter": "python",
   "pygments_lexer": "ipython3",
   "version": "3.10.13"
  }
 },
 "nbformat": 4,
 "nbformat_minor": 5
}
