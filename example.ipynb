{
 "cells": [
  {
   "cell_type": "code",
   "execution_count": 1,
   "id": "b1bcfb55",
   "metadata": {},
   "outputs": [],
   "source": [
    "import sys\n",
    "sys.path.append('../')\n",
    "from ac_dll_grammar_vae.data import CFGEquationDataset\n",
    "from ac_dll_grammar_vae.data.transforms import MathTokenEmbedding,RuleTokenEmbedding\n",
    "from ac_dll_grammar_vae.data.alphabet import alphabet as math_alphabet"
   ]
  },
  {
   "cell_type": "code",
   "execution_count": 2,
   "id": "9275b5ef",
   "metadata": {},
   "outputs": [],
   "source": [
    "data = CFGEquationDataset()"
   ]
  },
  {
   "cell_type": "code",
   "execution_count": 3,
   "id": "110d3dc9",
   "metadata": {},
   "outputs": [
    {
     "data": {
      "text/plain": [
       "['cos', '(', '(', '1', ')', ')', '+', '2']"
      ]
     },
     "execution_count": 3,
     "metadata": {},
     "output_type": "execute_result"
    }
   ],
   "source": [
    "data[42]"
   ]
  },
  {
   "cell_type": "code",
   "execution_count": 4,
   "id": "7cbf082d",
   "metadata": {},
   "outputs": [
    {
     "data": {
      "text/plain": [
       "{'sqrt': 1,\n",
       " '3': 2,\n",
       " ')': 3,\n",
       " 'sin': 4,\n",
       " '/': 5,\n",
       " '+': 6,\n",
       " 'x': 7,\n",
       " '*': 8,\n",
       " 'log': 9,\n",
       " '(': 10,\n",
       " '-': 11,\n",
       " 'exp': 12,\n",
       " '2': 13,\n",
       " '1': 14,\n",
       " 'cos': 15,\n",
       " ' ': 0}"
      ]
     },
     "execution_count": 4,
     "metadata": {},
     "output_type": "execute_result"
    }
   ],
   "source": [
    "emb = MathTokenEmbedding(alphabet=math_alphabet)\n",
    "emb.token_to_idx"
   ]
  },
  {
   "cell_type": "code",
   "execution_count": 5,
   "metadata": {},
   "outputs": [
    {
     "data": {
      "text/plain": [
       "{\"S -> S '+' T\": 0,\n",
       " \"S -> S '*' T\": 1,\n",
       " \"S -> S '/' T\": 2,\n",
       " \"S -> S '-' T\": 3,\n",
       " 'S -> T': 4,\n",
       " \"T -> '(' S ')'\": 5,\n",
       " \"T -> 'sin' '(' S ')'\": 6,\n",
       " \"T -> 'exp' '(' S ')'\": 7,\n",
       " \"T -> 'cos' '(' S ')'\": 8,\n",
       " \"T -> 'sqrt' '(' S ')'\": 9,\n",
       " \"T -> 'log' '(' S ')'\": 10,\n",
       " \"T -> 'x'\": 11,\n",
       " \"T -> '1'\": 12,\n",
       " \"T -> '2'\": 13,\n",
       " \"T -> '3'\": 14,\n",
       " \"Nothing -> 'None'\": 15}"
      ]
     },
     "execution_count": 5,
     "metadata": {},
     "output_type": "execute_result"
    }
   ],
   "source": [
    "cfg = data.get_grammar()\n",
    "emb = RuleTokenEmbedding(cfg=cfg,one_hot_encode=True)\n",
    "key = \"S -> S '+' T\"\n",
    "emb.rule_to_idx"
   ]
  },
  {
   "cell_type": "code",
   "execution_count": 6,
   "metadata": {},
   "outputs": [
    {
     "data": {
      "text/plain": [
       "[array([1., 0., 0., 0., 0., 0., 0., 0., 0., 0., 0., 0., 0., 0., 0., 0.]),\n",
       " array([0., 0., 0., 0., 1., 0., 0., 0., 0., 0., 0., 0., 0., 0., 0., 0.]),\n",
       " array([0., 0., 0., 0., 0., 0., 1., 0., 0., 0., 0., 0., 0., 0., 0., 0.]),\n",
       " array([0., 0., 0., 0., 1., 0., 0., 0., 0., 0., 0., 0., 0., 0., 0., 0.]),\n",
       " array([0., 0., 0., 0., 0., 1., 0., 0., 0., 0., 0., 0., 0., 0., 0., 0.]),\n",
       " array([0., 0., 0., 0., 1., 0., 0., 0., 0., 0., 0., 0., 0., 0., 0., 0.]),\n",
       " array([0., 0., 0., 0., 0., 0., 0., 0., 0., 0., 0., 0., 1., 0., 0., 0.]),\n",
       " array([0., 0., 0., 0., 0., 0., 0., 0., 0., 0., 0., 1., 0., 0., 0., 0.]),\n",
       " array([0., 0., 0., 0., 0., 0., 0., 0., 0., 0., 0., 0., 0., 0., 0., 1.]),\n",
       " array([0., 0., 0., 0., 0., 0., 0., 0., 0., 0., 0., 0., 0., 0., 0., 1.]),\n",
       " array([0., 0., 0., 0., 0., 0., 0., 0., 0., 0., 0., 0., 0., 0., 0., 1.]),\n",
       " array([0., 0., 0., 0., 0., 0., 0., 0., 0., 0., 0., 0., 0., 0., 0., 1.]),\n",
       " array([0., 0., 0., 0., 0., 0., 0., 0., 0., 0., 0., 0., 0., 0., 0., 1.]),\n",
       " array([0., 0., 0., 0., 0., 0., 0., 0., 0., 0., 0., 0., 0., 0., 0., 1.]),\n",
       " array([0., 0., 0., 0., 0., 0., 0., 0., 0., 0., 0., 0., 0., 0., 0., 1.]),\n",
       " array([0., 0., 0., 0., 0., 0., 0., 0., 0., 0., 0., 0., 0., 0., 0., 1.])]"
      ]
     },
     "execution_count": 6,
     "metadata": {},
     "output_type": "execute_result"
    }
   ],
   "source": [
    "#Example Encoding: \n",
    "data_2 = ['sin', '(', '(', '1', ')', ')', '+', 'x']\n",
    "encoded_data_2 = emb.embed(data_2)\n",
    "encoded_data_2"
   ]
  },
  {
   "cell_type": "code",
   "execution_count": 8,
   "metadata": {},
   "outputs": [
    {
     "ename": "NameError",
     "evalue": "name 'torch' is not defined",
     "output_type": "error",
     "traceback": [
      "\u001b[1;31m---------------------------------------------------------------------------\u001b[0m",
      "\u001b[1;31mNameError\u001b[0m                                 Traceback (most recent call last)",
      "\u001b[1;32mc:\\Users\\soupt\\OneDrive - stud.uni-stuttgart.de\\AI LAB\\Project\\VAEs_context-free_grammar\\ref\\notebooks\\example.ipynb Cell 8\u001b[0m line \u001b[0;36m1\n\u001b[1;32m----> <a href='vscode-notebook-cell:/c%3A/Users/soupt/OneDrive%20-%20stud.uni-stuttgart.de/AI%20LAB/Project/VAEs_context-free_grammar/ref/notebooks/example.ipynb#X30sZmlsZQ%3D%3D?line=0'>1</a>\u001b[0m x_true_2 \u001b[39m=\u001b[39m torch\u001b[39m.\u001b[39mTensor(encoded_data_2)\n\u001b[0;32m      <a href='vscode-notebook-cell:/c%3A/Users/soupt/OneDrive%20-%20stud.uni-stuttgart.de/AI%20LAB/Project/VAEs_context-free_grammar/ref/notebooks/example.ipynb#X30sZmlsZQ%3D%3D?line=1'>2</a>\u001b[0m x_true_2\u001b[39m.\u001b[39mshape\n\u001b[0;32m      <a href='vscode-notebook-cell:/c%3A/Users/soupt/OneDrive%20-%20stud.uni-stuttgart.de/AI%20LAB/Project/VAEs_context-free_grammar/ref/notebooks/example.ipynb#X30sZmlsZQ%3D%3D?line=3'>4</a>\u001b[0m most_likely \u001b[39m=\u001b[39m torch\u001b[39m.\u001b[39margmax(x_true_2,dim\u001b[39m=\u001b[39m\u001b[39m-\u001b[39m\u001b[39m1\u001b[39m)\n",
      "\u001b[1;31mNameError\u001b[0m: name 'torch' is not defined"
     ]
    }
   ],
   "source": [
    "x_true_2 = torch.Tensor(encoded_data_2)\n",
    "x_true_2.shape\n",
    "\n",
    "most_likely = torch.argmax(x_true_2,dim=-1)\n",
    "most_likely.reshape(-1)\n",
    "most_likely"
   ]
  },
  {
   "cell_type": "code",
   "execution_count": 9,
   "metadata": {},
   "outputs": [
    {
     "ename": "NameError",
     "evalue": "name 'torch' is not defined",
     "output_type": "error",
     "traceback": [
      "\u001b[1;31m---------------------------------------------------------------------------\u001b[0m",
      "\u001b[1;31mNameError\u001b[0m                                 Traceback (most recent call last)",
      "\u001b[1;32mc:\\Users\\soupt\\OneDrive - stud.uni-stuttgart.de\\AI LAB\\Project\\VAEs_context-free_grammar\\ref\\notebooks\\example.ipynb Cell 9\u001b[0m line \u001b[0;36m1\n\u001b[1;32m----> <a href='vscode-notebook-cell:/c%3A/Users/soupt/OneDrive%20-%20stud.uni-stuttgart.de/AI%20LAB/Project/VAEs_context-free_grammar/ref/notebooks/example.ipynb#X33sZmlsZQ%3D%3D?line=0'>1</a>\u001b[0m ind_of_ind \u001b[39m=\u001b[39m torch\u001b[39m.\u001b[39mTensor([\u001b[39m0\u001b[39m,\u001b[39m0\u001b[39m ,\u001b[39m0\u001b[39m ,\u001b[39m0\u001b[39m ,\u001b[39m0\u001b[39m ,\u001b[39m1\u001b[39m ,\u001b[39m1\u001b[39m ,\u001b[39m1\u001b[39m ,\u001b[39m1\u001b[39m ,\u001b[39m1\u001b[39m ,\u001b[39m1\u001b[39m ,\u001b[39m1\u001b[39m ,\u001b[39m1\u001b[39m ,\u001b[39m1\u001b[39m ,\u001b[39m1\u001b[39m ,\u001b[39m2\u001b[39m])\n\u001b[0;32m      <a href='vscode-notebook-cell:/c%3A/Users/soupt/OneDrive%20-%20stud.uni-stuttgart.de/AI%20LAB/Project/VAEs_context-free_grammar/ref/notebooks/example.ipynb#X33sZmlsZQ%3D%3D?line=1'>2</a>\u001b[0m masks \u001b[39m=\u001b[39m torch\u001b[39m.\u001b[39mTensor([[\u001b[39m1.\u001b[39m, \u001b[39m1.\u001b[39m ,\u001b[39m1.\u001b[39m ,\u001b[39m1.\u001b[39m, \u001b[39m1.\u001b[39m ,\u001b[39m0.\u001b[39m, \u001b[39m0.\u001b[39m, \u001b[39m0.\u001b[39m, \u001b[39m0.\u001b[39m, \u001b[39m0.\u001b[39m, \u001b[39m0.\u001b[39m ,\u001b[39m0.\u001b[39m, \u001b[39m0.\u001b[39m, \u001b[39m0.\u001b[39m, \u001b[39m0.\u001b[39m, \u001b[39m0.\u001b[39m],\n\u001b[0;32m      <a href='vscode-notebook-cell:/c%3A/Users/soupt/OneDrive%20-%20stud.uni-stuttgart.de/AI%20LAB/Project/VAEs_context-free_grammar/ref/notebooks/example.ipynb#X33sZmlsZQ%3D%3D?line=2'>3</a>\u001b[0m  [\u001b[39m0.\u001b[39m, \u001b[39m0.\u001b[39m, \u001b[39m0.\u001b[39m, \u001b[39m0.\u001b[39m ,\u001b[39m0.\u001b[39m ,\u001b[39m1.\u001b[39m, \u001b[39m1.\u001b[39m, \u001b[39m1.\u001b[39m ,\u001b[39m1.\u001b[39m, \u001b[39m1.\u001b[39m, \u001b[39m1.\u001b[39m ,\u001b[39m1.\u001b[39m ,\u001b[39m1.\u001b[39m ,\u001b[39m1.\u001b[39m ,\u001b[39m1.\u001b[39m, \u001b[39m0.\u001b[39m],\n\u001b[0;32m      <a href='vscode-notebook-cell:/c%3A/Users/soupt/OneDrive%20-%20stud.uni-stuttgart.de/AI%20LAB/Project/VAEs_context-free_grammar/ref/notebooks/example.ipynb#X33sZmlsZQ%3D%3D?line=3'>4</a>\u001b[0m  [\u001b[39m0.\u001b[39m, \u001b[39m0.\u001b[39m, \u001b[39m0.\u001b[39m, \u001b[39m0.\u001b[39m ,\u001b[39m0.\u001b[39m ,\u001b[39m0.\u001b[39m, \u001b[39m0.\u001b[39m,\u001b[39m0.\u001b[39m, \u001b[39m0.\u001b[39m, \u001b[39m0.\u001b[39m, \u001b[39m0.\u001b[39m ,\u001b[39m0.\u001b[39m, \u001b[39m0.\u001b[39m, \u001b[39m0.\u001b[39m, \u001b[39m0.\u001b[39m, \u001b[39m1.\u001b[39m]])\n",
      "\u001b[1;31mNameError\u001b[0m: name 'torch' is not defined"
     ]
    }
   ],
   "source": [
    "ind_of_ind = torch.Tensor([0,0 ,0 ,0 ,0 ,1 ,1 ,1 ,1 ,1 ,1 ,1 ,1 ,1 ,1 ,2])\n",
    "masks = torch.Tensor([[1., 1. ,1. ,1., 1. ,0., 0., 0., 0., 0., 0. ,0., 0., 0., 0., 0.],\n",
    " [0., 0., 0., 0. ,0. ,1., 1., 1. ,1., 1., 1. ,1. ,1. ,1. ,1., 0.],\n",
    " [0., 0., 0., 0. ,0. ,0., 0.,0., 0., 0., 0. ,0., 0., 0., 0., 1.]])"
   ]
  },
  {
   "cell_type": "code",
   "execution_count": 75,
   "metadata": {},
   "outputs": [
    {
     "name": "stdout",
     "output_type": "stream",
     "text": [
      "tensor([ 0,  4,  8,  4,  5,  4, 12, 13, 15, 15, 15, 15, 15, 15, 15, 15,  0,  4,\n",
      "         6,  4,  5,  4, 12, 11, 15, 15, 15, 15, 15, 15, 15, 15])\n",
      "tensor([0., 0., 0., 0., 0., 1., 1., 1., 1., 1., 1., 1., 1., 1., 1., 2.])\n",
      "tensor([[0, 0, 1, 0, 1, 0, 1, 1, 2, 2, 2, 2, 2, 2, 2, 2, 0, 0, 1, 0, 1, 0, 1, 1,\n",
      "         2, 2, 2, 2, 2, 2, 2, 2]])\n",
      "torch.Size([32, 1, 16])\n",
      "torch.Size([2, 16, 16])\n",
      "tensor([[[1., 1., 1., 1., 1., 0., 0., 0., 0., 0., 0., 0., 0., 0., 0., 0.],\n",
      "         [1., 1., 1., 1., 1., 0., 0., 0., 0., 0., 0., 0., 0., 0., 0., 0.],\n",
      "         [0., 0., 0., 0., 0., 1., 1., 1., 1., 1., 1., 1., 1., 1., 1., 0.],\n",
      "         [1., 1., 1., 1., 1., 0., 0., 0., 0., 0., 0., 0., 0., 0., 0., 0.],\n",
      "         [0., 0., 0., 0., 0., 1., 1., 1., 1., 1., 1., 1., 1., 1., 1., 0.],\n",
      "         [1., 1., 1., 1., 1., 0., 0., 0., 0., 0., 0., 0., 0., 0., 0., 0.],\n",
      "         [0., 0., 0., 0., 0., 1., 1., 1., 1., 1., 1., 1., 1., 1., 1., 0.],\n",
      "         [0., 0., 0., 0., 0., 1., 1., 1., 1., 1., 1., 1., 1., 1., 1., 0.],\n",
      "         [0., 0., 0., 0., 0., 0., 0., 0., 0., 0., 0., 0., 0., 0., 0., 1.],\n",
      "         [0., 0., 0., 0., 0., 0., 0., 0., 0., 0., 0., 0., 0., 0., 0., 1.],\n",
      "         [0., 0., 0., 0., 0., 0., 0., 0., 0., 0., 0., 0., 0., 0., 0., 1.],\n",
      "         [0., 0., 0., 0., 0., 0., 0., 0., 0., 0., 0., 0., 0., 0., 0., 1.],\n",
      "         [0., 0., 0., 0., 0., 0., 0., 0., 0., 0., 0., 0., 0., 0., 0., 1.],\n",
      "         [0., 0., 0., 0., 0., 0., 0., 0., 0., 0., 0., 0., 0., 0., 0., 1.],\n",
      "         [0., 0., 0., 0., 0., 0., 0., 0., 0., 0., 0., 0., 0., 0., 0., 1.],\n",
      "         [0., 0., 0., 0., 0., 0., 0., 0., 0., 0., 0., 0., 0., 0., 0., 1.]],\n",
      "\n",
      "        [[1., 1., 1., 1., 1., 0., 0., 0., 0., 0., 0., 0., 0., 0., 0., 0.],\n",
      "         [1., 1., 1., 1., 1., 0., 0., 0., 0., 0., 0., 0., 0., 0., 0., 0.],\n",
      "         [0., 0., 0., 0., 0., 1., 1., 1., 1., 1., 1., 1., 1., 1., 1., 0.],\n",
      "         [1., 1., 1., 1., 1., 0., 0., 0., 0., 0., 0., 0., 0., 0., 0., 0.],\n",
      "         [0., 0., 0., 0., 0., 1., 1., 1., 1., 1., 1., 1., 1., 1., 1., 0.],\n",
      "         [1., 1., 1., 1., 1., 0., 0., 0., 0., 0., 0., 0., 0., 0., 0., 0.],\n",
      "         [0., 0., 0., 0., 0., 1., 1., 1., 1., 1., 1., 1., 1., 1., 1., 0.],\n",
      "         [0., 0., 0., 0., 0., 1., 1., 1., 1., 1., 1., 1., 1., 1., 1., 0.],\n",
      "         [0., 0., 0., 0., 0., 0., 0., 0., 0., 0., 0., 0., 0., 0., 0., 1.],\n",
      "         [0., 0., 0., 0., 0., 0., 0., 0., 0., 0., 0., 0., 0., 0., 0., 1.],\n",
      "         [0., 0., 0., 0., 0., 0., 0., 0., 0., 0., 0., 0., 0., 0., 0., 1.],\n",
      "         [0., 0., 0., 0., 0., 0., 0., 0., 0., 0., 0., 0., 0., 0., 0., 1.],\n",
      "         [0., 0., 0., 0., 0., 0., 0., 0., 0., 0., 0., 0., 0., 0., 0., 1.],\n",
      "         [0., 0., 0., 0., 0., 0., 0., 0., 0., 0., 0., 0., 0., 0., 0., 1.],\n",
      "         [0., 0., 0., 0., 0., 0., 0., 0., 0., 0., 0., 0., 0., 0., 0., 1.],\n",
      "         [0., 0., 0., 0., 0., 0., 0., 0., 0., 0., 0., 0., 0., 0., 0., 1.]]])\n"
     ]
    }
   ],
   "source": [
    "x_true_batch = batch\n",
    "most_likely_batch  = torch.argmax(x_true_batch,-1)\n",
    "most_likely_batch = most_likely_batch.reshape(-1)\n",
    "print(most_likely_batch)\n",
    "print(ind_of_ind)\n",
    "ix2 = torch.index_select(ind_of_ind, 0, most_likely_batch).unsqueeze(1)\n",
    "ix2 = ix2.long()\n",
    "print(ix2.T)\n",
    "M2 = masks[ix2]\n",
    "print(M2.shape)\n",
    "MAX_LEN = 16\n",
    "DIM = 16\n",
    "M3 = M2.view(-1, MAX_LEN, DIM)\n",
    "print(M3.shape)\n",
    "print(M3)"
   ]
  },
  {
   "cell_type": "code",
   "execution_count": null,
   "metadata": {},
   "outputs": [],
   "source": [
    "  # select indices and add dimension\n",
    "    ix2 = ix2.long()  # cast indices as long ints (equivalent to tf.int32)\n",
    "    M2 = masks[ix2]  # get slices of masks with indices\n",
    "    M3 = M2.view(-1, MAX_LEN, DIM)  # reshape them\n",
    "    P2 = torch.exp(x_pred) * M3  # apply them to the exp-predictions\n",
    "    P2 = P2 / P2.sum(dim=-1, keepdim=True)  # normalize predictions\n",
    "    return P2"
   ]
  },
  {
   "cell_type": "code",
   "execution_count": 10,
   "metadata": {},
   "outputs": [
    {
     "ename": "NameError",
     "evalue": "name 'encoded_data' is not defined",
     "output_type": "error",
     "traceback": [
      "\u001b[1;31m---------------------------------------------------------------------------\u001b[0m",
      "\u001b[1;31mNameError\u001b[0m                                 Traceback (most recent call last)",
      "\u001b[1;32mc:\\Users\\soupt\\OneDrive - stud.uni-stuttgart.de\\AI LAB\\Project\\VAEs_context-free_grammar\\ref\\notebooks\\example.ipynb Cell 11\u001b[0m line \u001b[0;36m1\n\u001b[1;32m----> <a href='vscode-notebook-cell:/c%3A/Users/soupt/OneDrive%20-%20stud.uni-stuttgart.de/AI%20LAB/Project/VAEs_context-free_grammar/ref/notebooks/example.ipynb#X15sZmlsZQ%3D%3D?line=0'>1</a>\u001b[0m decoded_data \u001b[39m=\u001b[39m emb\u001b[39m.\u001b[39mdecode(encoded_data)\n",
      "\u001b[1;31mNameError\u001b[0m: name 'encoded_data' is not defined"
     ]
    }
   ],
   "source": [
    "decoded_data = emb.decode(encoded_data_2)"
   ]
  },
  {
   "cell_type": "code",
   "execution_count": 21,
   "metadata": {},
   "outputs": [
    {
     "data": {
      "text/plain": [
       "[\"cos'\", \"'('\", \"('\", '1', \"')\", \"')\", \"'+'\", '2']"
      ]
     },
     "execution_count": 21,
     "metadata": {},
     "output_type": "execute_result"
    }
   ],
   "source": [
    "decoded_data"
   ]
  },
  {
   "cell_type": "code",
   "execution_count": 26,
   "metadata": {},
   "outputs": [],
   "source": [
    "from ac_dll_grammar_vae import print_contact_info\n",
    "from ac_dll_grammar_vae.data import CFGEquationDataset\n",
    "from ac_dll_grammar_vae.data.alphabet import alphabet\n",
    "from ac_dll_grammar_vae.data.transforms import MathTokenEmbedding, RuleTokenEmbedding, ToTensor, Compose#, PadSequencesToSameLength\n",
    "import torch.nn.functional as F\n",
    "import torch\n",
    "torch.manual_seed(42)\n",
    "import torch.nn as nn\n",
    "from torch.utils.data import DataLoader, TensorDataset, Dataset"
   ]
  },
  {
   "cell_type": "code",
   "execution_count": 27,
   "metadata": {},
   "outputs": [],
   "source": [
    "training_gvae = CFGEquationDataset(\n",
    "        n_samples=100000,\n",
    "        transform=Compose([\n",
    "            RuleTokenEmbedding(cfg,max_num_rules=16),\n",
    "            ToTensor(dtype=torch.uint8)\n",
    "        ]))\n",
    "\n",
    "#Batch Size:\n",
    "batch_size = 100\n",
    "MAX_PROD_LEN = 16\n",
    "training_gvae_loader = DataLoader(dataset=training_gvae,\n",
    "                              batch_size=batch_size,\n",
    "                              shuffle=True)"
   ]
  },
  {
   "cell_type": "code",
   "execution_count": 28,
   "metadata": {},
   "outputs": [],
   "source": [
    "iter_ = iter(training_gvae_loader)\n",
    "batch = next(iter_)"
   ]
  },
  {
   "cell_type": "code",
   "execution_count": 31,
   "metadata": {},
   "outputs": [
    {
     "data": {
      "text/plain": [
       "tensor([ 4,  7,  3,  0,  4, 14, 14,  7,  2,  4,  8,  4, 13, 12, 15, 15],\n",
       "       dtype=torch.uint8)"
      ]
     },
     "execution_count": 31,
     "metadata": {},
     "output_type": "execute_result"
    }
   ],
   "source": [
    "batch[2]"
   ]
  },
  {
   "cell_type": "code",
   "execution_count": null,
   "metadata": {},
   "outputs": [],
   "source": []
  }
 ],
 "metadata": {
  "kernelspec": {
   "display_name": "Python 3 (ipykernel)",
   "language": "python",
   "name": "python3"
  },
  "language_info": {
   "codemirror_mode": {
    "name": "ipython",
    "version": 3
   },
   "file_extension": ".py",
   "mimetype": "text/x-python",
   "name": "python",
   "nbconvert_exporter": "python",
   "pygments_lexer": "ipython3",
   "version": "3.8.5"
  }
 },
 "nbformat": 4,
 "nbformat_minor": 5
}
