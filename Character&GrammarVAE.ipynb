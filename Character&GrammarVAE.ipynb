{
 "cells": [
  {
   "cell_type": "code",
   "execution_count": 21,
   "metadata": {},
   "outputs": [
    {
     "name": "stdout",
     "output_type": "stream",
     "text": [
      "Using torch 2.1.2+cu118\n"
     ]
    }
   ],
   "source": [
    "import matplotlib.pyplot as plt\n",
    "import numpy as np\n",
    "from tqdm import tqdm\n",
    "import torch\n",
    "print(\"Using torch\", torch.__version__)\n",
    "import seaborn as sns\n",
    "import torchvision.datasets as datasets\n",
    "from torchvision import transforms\n",
    "sns.set()\n",
    "torch.manual_seed(42) # Setting the seed\n",
    "import torch.nn.functional as F\n",
    "import torch\n",
    "import torch.nn as nn\n",
    "from torch.utils.data import DataLoader, TensorDataset, Dataset"
   ]
  },
  {
   "cell_type": "code",
   "execution_count": 22,
   "metadata": {},
   "outputs": [],
   "source": [
    "from ac_dll_grammar_vae import print_contact_info\n",
    "from ac_dll_grammar_vae.data import CFGEquationDataset\n",
    "from ac_dll_grammar_vae.data.alphabet import alphabet\n",
    "from ac_dll_grammar_vae.data.transforms import MathTokenEmbedding, RuleTokenEmbedding, ToTensor, Compose, PadSequencesToSameLengthV2, OneHotEncode\n",
    "from train import *\n",
    "from eval import *\n",
    "from visualize import *"
   ]
  },
  {
   "cell_type": "code",
   "execution_count": 23,
   "metadata": {},
   "outputs": [
    {
     "name": "stdout",
     "output_type": "stream",
     "text": [
      "Device cuda\n"
     ]
    }
   ],
   "source": [
    "device = torch.device(\"cuda\") if torch.cuda.is_available() else torch.device(\"cpu\")\n",
    "print(\"Device\", device)\n",
    "\n",
    "# GPU operations have a separate seed we also want to set\n",
    "if torch.cuda.is_available():\n",
    "    torch.cuda.manual_seed(42)\n",
    "    torch.cuda.manual_seed_all(42)\n",
    "\n",
    "# Additionally, some operations on a GPU are implemented stochastic for efficiency\n",
    "# We want to ensure that all operations are deterministic on GPU (if used) for reproducibility\n",
    "torch.backends.cudnn.deterministic = True\n",
    "torch.backends.cudnn.benchmark = False\n",
    "#device = \"cpu\""
   ]
  },
  {
   "cell_type": "markdown",
   "metadata": {},
   "source": [
    "## Character VAE"
   ]
  },
  {
   "cell_type": "markdown",
   "metadata": {},
   "source": [
    "### Character Embedding:\n",
    "+ Using Math Token Embedding Class\n",
    "\n",
    "{'+': 1,\n",
    " '-': 2,\n",
    " '3': 3,\n",
    " 'sqrt': 4,\n",
    " 'exp': 5,\n",
    " '(': 6,\n",
    " 'sin': 7,\n",
    " '/': 8,\n",
    " 'x': 9,\n",
    " ')': 10,\n",
    " '*': 11,\n",
    " 'log': 12,\n",
    " 'cos': 13,\n",
    " '2': 14,\n",
    " '1': 15,\n",
    " ' ': 0}"
   ]
  },
  {
   "cell_type": "code",
   "execution_count": 24,
   "metadata": {},
   "outputs": [
    {
     "data": {
      "text/plain": [
       "{'*': 1,\n",
       " '1': 2,\n",
       " 'sin': 3,\n",
       " 'exp': 4,\n",
       " 'cos': 5,\n",
       " 'log': 6,\n",
       " '+': 7,\n",
       " 'x': 8,\n",
       " 'sqrt': 9,\n",
       " ')': 10,\n",
       " '3': 11,\n",
       " '2': 12,\n",
       " '-': 13,\n",
       " '/': 14,\n",
       " '(': 15,\n",
       " ' ': 0}"
      ]
     },
     "execution_count": 24,
     "metadata": {},
     "output_type": "execute_result"
    }
   ],
   "source": [
    "emb = MathTokenEmbedding(alphabet=alphabet)\n",
    "emb.token_to_idx"
   ]
  },
  {
   "cell_type": "code",
   "execution_count": 25,
   "metadata": {},
   "outputs": [
    {
     "name": "stdout",
     "output_type": "stream",
     "text": [
      "Example: Data ['cos', '(', '(', '1', ')', ')', '+', '2']\n",
      "Encoded Example: Data [5, 15, 15, 2, 10, 10, 7, 12]\n"
     ]
    }
   ],
   "source": [
    "#Example Data\n",
    "data = CFGEquationDataset()\n",
    "#Example Encoding:\n",
    "print(f'Example: Data {data[42]}')\n",
    "encoded_data = emb.embed(data[42])\n",
    "print(f'Encoded Example: Data {encoded_data}')"
   ]
  },
  {
   "cell_type": "markdown",
   "metadata": {},
   "source": [
    "+ Example: Data ['cos', '(', '(', '1', ')', ')', '+', '2']\n",
    "+ Encoded Example: Data [13, 6, 6, 15, 10, 10, 1, 14]"
   ]
  },
  {
   "cell_type": "markdown",
   "metadata": {},
   "source": [
    "### Creating the Training Dataset using CFG \n",
    " + Class CFGEquationDataset is used to generate the equations"
   ]
  },
  {
   "cell_type": "code",
   "execution_count": 26,
   "metadata": {},
   "outputs": [],
   "source": [
    "#Batch Size:\n",
    "batch_size = 100\n",
    "MAX_SEQ_LEN = 21"
   ]
  },
  {
   "cell_type": "code",
   "execution_count": 27,
   "metadata": {},
   "outputs": [],
   "source": [
    "training = CFGEquationDataset(\n",
    "        n_samples=100000,\n",
    "        transform=Compose([\n",
    "            MathTokenEmbedding(alphabet),\n",
    "            ToTensor(dtype=torch.uint8)\n",
    "        ]))\n",
    "collate_fn = PadSequencesToSameLengthV2(padding_value=0, max_length=21)\n",
    "training_loader = DataLoader(dataset=training,\n",
    "                              batch_size=batch_size,\n",
    "                              shuffle=True,\n",
    "                              collate_fn=PadSequencesToSameLengthV2(padding_value=0, max_length=21))"
   ]
  },
  {
   "cell_type": "markdown",
   "metadata": {},
   "source": [
    "#### Convert the Embedded equations into one hot encoded vectors"
   ]
  },
  {
   "cell_type": "code",
   "execution_count": 28,
   "metadata": {},
   "outputs": [],
   "source": [
    "onehotencoder = OneHotEncode(alphabet)"
   ]
  },
  {
   "cell_type": "code",
   "execution_count": 29,
   "metadata": {},
   "outputs": [
    {
     "data": {
      "text/plain": [
       "torch.Size([100000, 21, 16])"
      ]
     },
     "execution_count": 29,
     "metadata": {},
     "output_type": "execute_result"
    }
   ],
   "source": [
    "\n",
    "one_hot_encoded_training = []\n",
    "for batch in training_loader:\n",
    "  try:\n",
    "    one_hot_encoded_batch = onehotencoder(batch)\n",
    "  except Exception as e:\n",
    "    print(batch)\n",
    "    continue\n",
    "  one_hot_encoded_training.append(one_hot_encoded_batch.numpy())\n",
    "one_hot_encoded_training = np.array(one_hot_encoded_training)\n",
    "one_hot_encoded_training_tensor = torch.Tensor(one_hot_encoded_training)\n",
    "one_hot_encoded_training_tensor = one_hot_encoded_training_tensor.view(one_hot_encoded_training_tensor.shape[0]*one_hot_encoded_training_tensor.shape[1],one_hot_encoded_training_tensor.shape[2],one_hot_encoded_training_tensor.shape[3])\n",
    "one_hot_encoded_training_tensor.shape"
   ]
  },
  {
   "cell_type": "markdown",
   "metadata": {},
   "source": [
    "### Creating final dataloader for model which is one-hot-encoded:\n",
    " + Setting Maximum equation length to 21"
   ]
  },
  {
   "cell_type": "code",
   "execution_count": 30,
   "metadata": {},
   "outputs": [],
   "source": [
    "batch_size = 100\n",
    "MAX_SEQ_LEN = 21\n",
    "alphabet_length = len(alphabet) + 1\n",
    "one_hot_encoded_training_loader = DataLoader(dataset=one_hot_encoded_training_tensor,\n",
    "                              batch_size=batch_size,\n",
    "                              shuffle=False)"
   ]
  },
  {
   "cell_type": "markdown",
   "metadata": {},
   "source": [
    "### Creating the Test Dataset and Dataloader:"
   ]
  },
  {
   "cell_type": "code",
   "execution_count": 31,
   "metadata": {},
   "outputs": [],
   "source": [
    "test_dataset = CFGEquationDataset(\n",
    "        n_samples=1000,\n",
    "        transform=Compose([\n",
    "            MathTokenEmbedding(alphabet),\n",
    "            ToTensor(dtype=torch.uint8)\n",
    "        ]))\n",
    "#Batch Size:\n",
    "batch_size = 100\n",
    "MAX_SEQ_LEN = 21\n",
    "collate_fn = PadSequencesToSameLengthV2(padding_value=0, max_length=21)\n",
    "test_loader = DataLoader(dataset=test_dataset,\n",
    "                              batch_size=batch_size,\n",
    "                              shuffle=True,\n",
    "                              collate_fn=PadSequencesToSameLengthV2(padding_value=0, max_length=21))"
   ]
  },
  {
   "cell_type": "code",
   "execution_count": 32,
   "metadata": {},
   "outputs": [
    {
     "name": "stdout",
     "output_type": "stream",
     "text": [
      "torch.Size([1000, 21, 16])\n"
     ]
    }
   ],
   "source": [
    "one_hot_encoded_testing = []\n",
    "for batch in test_loader:\n",
    "  try:\n",
    "    one_hot_encoded_batch = onehotencoder(batch)\n",
    "  except Exception as e:\n",
    "    print(batch)\n",
    "    continue\n",
    "  #print(one_hot_encoded_batch.shape)\n",
    "  one_hot_encoded_testing.append(one_hot_encoded_batch.numpy())\n",
    "one_hot_encoded_testing = np.array(one_hot_encoded_testing)\n",
    "one_hot_encoded_testing_tensor = torch.Tensor(one_hot_encoded_testing)\n",
    "one_hot_encoded_testing_tensor = one_hot_encoded_testing_tensor.view(one_hot_encoded_testing_tensor.shape[0]*one_hot_encoded_testing_tensor.shape[1],one_hot_encoded_testing_tensor.shape[2],one_hot_encoded_testing_tensor.shape[3])\n",
    "print(one_hot_encoded_testing_tensor.shape)\n",
    "one_hot_encoded_testing_loader = DataLoader(dataset=one_hot_encoded_testing_tensor,\n",
    "                              batch_size=batch_size,\n",
    "                              shuffle=False)"
   ]
  },
  {
   "cell_type": "markdown",
   "metadata": {},
   "source": [
    "### Model Initialization for Character AE"
   ]
  },
  {
   "cell_type": "code",
   "execution_count": 33,
   "metadata": {},
   "outputs": [],
   "source": [
    "from models import EqnAE\n",
    "from train import train_AEmodel"
   ]
  },
  {
   "cell_type": "code",
   "execution_count": 37,
   "metadata": {},
   "outputs": [],
   "source": [
    "mlflow.end_run()"
   ]
  },
  {
   "cell_type": "code",
   "execution_count": null,
   "metadata": {},
   "outputs": [],
   "source": [
    "import mlflow\n",
    "from hyperparam_optim import HyperparameterOptimization\n",
    "from tracking import MLFlowTracker\n",
    "import itertools\n",
    "from visualize import visualize_latent_space_Eqn\n",
    "\n",
    "hyperParamOptimization = HyperparameterOptimization('./hyperparameters/params.yaml')\n",
    "params = hyperParamOptimization.get_params()\n",
    "\n",
    "#mlflow.create_experiment('Character AE Equation V1')\n",
    "mlflow.set_experiment('Character AE Equation V1')\n",
    "\n",
    "\n",
    "hyperparameter_combinations = itertools.product(params.M_LATENTDIMENSION, params.T_NUMEPOCHS, params.T_LR, params.T_BATCHSIZE, params.T_LOSS, params.T_OPTIMIZER, params.T_TRAINVALIDRATIO)\n",
    "for combination in hyperparameter_combinations:\n",
    "    mlflow.start_run()\n",
    "    latent_dim, num_epochs, lr, batch_size, loss_function, optimizer_name, train_valid_ratio = combination\n",
    "\n",
    "    # Initialize your model with the given latent dimension\n",
    "    # Model Initialization\n",
    "    alphabet_length = len(alphabet) + 1\n",
    "    MAX_SEQ_LEN = 21\n",
    "    model = EqnAE(alphabet_length,MAX_SEQ_LEN,latent_rep_size=latent_dim)\n",
    "    model.to(device)\n",
    "    #Loss\n",
    "    if loss_function == 'BCE':\n",
    "        loss_module = nn.BCELoss(reduction=\"sum\")\n",
    "    elif loss_function == 'MSE':\n",
    "        loss_module = nn.MSELoss(reduction=\"sum\")\n",
    "    \n",
    "    if optimizer_name == 'Adam':\n",
    "        optimizer = torch.optim.Adam(model.parameters(), lr=lr)\n",
    "    elif optimizer_name == 'SGD':\n",
    "        optimizer = torch.optim.SGD(model.parameters(), lr=lr)\n",
    "    elif optimizer_name == 'Adadelta':\n",
    "        optimizer = torch.optim.Adadelta(model.parameters(), lr=lr)\n",
    "    elif optimizer_name == 'Adagrad':\n",
    "        optimizer = torch.optim.Adagrad(model.parameters(), lr=lr)\n",
    "    elif optimizer_name == 'RMSprop':\n",
    "        optimizer = torch.optim.RMSprop(model.parameters(),lr=lr)\n",
    "\n",
    "    total_samples = one_hot_encoded_training_tensor.shape[0]\n",
    "    valid_size = int(total_samples * train_valid_ratio)\n",
    "    train_size = total_samples - valid_size\n",
    "\n",
    "    train_tensor = one_hot_encoded_training_tensor[:train_size]\n",
    "    valid_tensor = one_hot_encoded_training_tensor[train_size:]\n",
    "\n",
    "    train_dataset = TensorDataset(train_tensor)\n",
    "    val_dataset = TensorDataset(valid_tensor) \n",
    "\n",
    "    train_loader = DataLoader(dataset=train_tensor,\n",
    "                              batch_size=batch_size,\n",
    "                              shuffle=False)\n",
    "\n",
    "    val_loader = DataLoader(dataset=valid_tensor,\n",
    "                              batch_size=batch_size,\n",
    "                              shuffle=False)\n",
    "\n",
    "    # Log parameters to MLflow\n",
    "    mlflow.log_params({\n",
    "        \"latent_dimension\": latent_dim,\n",
    "        \"num_epochs\": num_epochs,\n",
    "        \"learning_rate\": lr,\n",
    "        \"batch_size\": batch_size,\n",
    "        \"loss_function\": loss_function,\n",
    "        \"optimizer\": optimizer_name,\n",
    "        \"train_valid_ratio\": train_valid_ratio\n",
    "    })\n",
    "\n",
    "    train_EqnAE(model, train_loader, val_loader, loss_module, optimizer, num_epochs=num_epochs)\n",
    "\n",
    "    \n",
    "    torch.save(model,f'./saved/models/EQN_AE_{latent_dim}_{batch_size}_{loss_function}_{lr}_{num_epochs}_{optimizer_name}_{train_valid_ratio}_Full.pth')\n",
    "    torch.save(model.state_dict(),f'./saved/models/EQN_AE_{latent_dim}_{batch_size}_{loss_function}_{lr}_{num_epochs}_{optimizer_name}_{train_valid_ratio}_dict.pth')\n",
    "\n",
    "    # Save the model\n",
    "    mlflow.pytorch.log_model(model, \"model\")\n",
    "\n",
    "    test_tensor = one_hot_encoded_testing_tensor\n",
    "    test_dataset = TensorDataset(test_tensor)\n",
    "    test_loader = DataLoader(dataset=test_tensor,\n",
    "                              batch_size=batch_size,\n",
    "                              shuffle=False)             \n",
    "    model.to(device)\n",
    "    visualize_latent_space_Eqn(model, test_loader,False)\n",
    "    mlflow.log_artifact(\"./plots/LatentSpace_plot.png\", artifact_path=\"plots\")\n",
    "\n",
    "    one_hot_decoded = []\n",
    "    one_hot_decoded_recon = []\n",
    "    recon_losses = []\n",
    "    model.eval()\n",
    "    criterion = torch.nn.BCELoss(reduction='sum')\n",
    "    for sample in test_loader:\n",
    "        sample = sample.float().to(device)\n",
    "        recon = model(sample)\n",
    "        for idx,ele in enumerate(recon):\n",
    "            recon_loss = criterion(ele,sample[idx])\n",
    "            max_indices = torch.argmax(ele, dim=1)\n",
    "            one_hot = torch.zeros_like(ele) \n",
    "            one_hot[torch.arange(ele.size(0)), max_indices] = 1\n",
    "            embd = torch.argmax(one_hot, dim=1)\n",
    "            one_hot_decoded.append(emb.decode(torch.argmax(sample[idx], dim=1)))\n",
    "            one_hot_decoded_recon.append(emb.decode(embd))\n",
    "            recon_losses.append(recon_loss)\n",
    "            recon_loss = 0\n",
    "            #break\n",
    "\n",
    "        output_filename = f\"./output/output_{latent_dim}_{batch_size}_{loss_function}_{lr}_{num_epochs}_{optimizer_name}_{train_valid_ratio}.txt\"\n",
    "        with open(output_filename, \"w\") as file:\n",
    "            for idx, ele in enumerate(one_hot_decoded_recon[:1000]):\n",
    "                actual_equation = ''.join(one_hot_decoded[idx])\n",
    "                decoded_equation = ''.join(one_hot_decode   d_recon[idx])\n",
    "                file.write(f'Actual Equation: {actual_equation}\\n')\n",
    "                file.write(f'AE Decoded Equation: {decoded_equation}\\n')\n",
    "                file.write(f'AE Reconstruction Loss: {recon_losses[idx]}\\n\\n')\n",
    "                \n",
    "\n",
    "        # Log the file as an artifact in MLflow\n",
    "        mlflow.log_artifact(output_filename, artifact_path=\"outputs\")\n",
    "\n",
    "    # End MLflow run\n",
    "    mlflow.end_run()"
   ]
  },
  {
   "cell_type": "code",
   "execution_count": 20,
   "metadata": {},
   "outputs": [],
   "source": [
    "model = torch.load('./saved/models/EQN_AE_25_200_BCE_0.001_15_Adam_0.1_Full.pth')\n",
    "# test_tensor = one_hot_encoded_testing_tensor\n",
    "# test_dataset = TensorDataset(test_tensor)\n",
    "# test_loader = DataLoader(dataset=test_tensor,\n",
    "#                             batch_size=batch_size,\n",
    "#                             shuffle=False)             \n",
    "# model.to(device)\n",
    "# visualize_latent_space_Eqn_PCA(model, test_loader,False,False,None,n=15,seed=45)\n",
    "#vis_interpolation(model,test_loader,vae=True)\n",
    "#return\n",
    "\n",
    "\n",
    "test_tensor = one_hot_encoded_testing_tensor\n",
    "test_dataset = TensorDataset(test_tensor)\n",
    "test_loader = DataLoader(dataset=test_tensor,\n",
    "                            batch_size=batch_size,\n",
    "                            shuffle=False)             \n",
    "model.to(device)\n",
    "#visualize_latent_space_Eqn(model, test_loader,False)\n",
    "#mlflow.log_artifact(\"./plots/LatentSpace_plot.png\", artifact_path=\"plots\")\n",
    "\n",
    "one_hot_decoded = []\n",
    "one_hot_decoded_recon = []\n",
    "recon_loss = []\n",
    "criterion = torch.nn.BCELoss(reduction='sum')\n",
    "for sample in test_loader:\n",
    "    model.eval()\n",
    "    sample = sample.float().to(device)\n",
    "    recon = model(sample)\n",
    "    for idx,ele in enumerate(recon):\n",
    "        loss = criterion(ele,sample[idx])\n",
    "        recon_loss.append(loss)\n",
    "        max_indices = torch.argmax(ele, dim=1)\n",
    "        one_hot = torch.zeros_like(ele) \n",
    "        one_hot[torch.arange(ele.size(0)), max_indices] = 1\n",
    "        embd = torch.argmax(one_hot, dim=1)\n",
    "        one_hot_decoded.append(emb.decode(torch.argmax(sample[idx], dim=1)))\n",
    "        one_hot_decoded_recon.append(emb.decode(embd))\n",
    "\n",
    "    output_filename = f\"./output/output_AE_25_100_BCE_0.001_15_Adam_0.1.txt\"\n",
    "    with open(output_filename, \"w\") as file:\n",
    "        for idx, ele in enumerate(one_hot_decoded_recon[:1000]):\n",
    "            actual_equation = ''.join(one_hot_decoded[idx])\n",
    "            decoded_equation = ''.join(one_hot_decoded_recon[idx])\n",
    "            file.write(f'Actual Equation: {actual_equation}\\n')\n",
    "            file.write(f'AE Decoded Equation: {decoded_equation}\\n')\n",
    "            file.write(f'AE Reconstruction Loss: {recon_loss[idx]}\\n\\n')"
   ]
  },
  {
   "cell_type": "markdown",
   "metadata": {},
   "source": [
    "### Character VAE Model"
   ]
  },
  {
   "cell_type": "code",
   "execution_count": 39,
   "metadata": {},
   "outputs": [],
   "source": [
    "from models import EqnVAE\n",
    "from train import train_EqnVAE"
   ]
  },
  {
   "cell_type": "markdown",
   "metadata": {},
   "source": [
    "### Model Initialization and Hyperparameter Optimization for Character VAE"
   ]
  },
  {
   "cell_type": "code",
   "execution_count": 5,
   "metadata": {},
   "outputs": [],
   "source": [
    "mlflow.end_run()"
   ]
  },
  {
   "cell_type": "code",
   "execution_count": 40,
   "metadata": {},
   "outputs": [
    {
     "name": "stdout",
     "output_type": "stream",
     "text": [
      "====> Epoch: 0 Average Training loss: 1496.39935087\n",
      "====> Epoch: 0 Average Validation loss: 1460.75930313\n",
      "====> Epoch: 1 Average Training loss: 1445.29336701\n",
      "====> Epoch: 1 Average Validation loss: 1440.76387187\n",
      "====> Epoch: 2 Average Training loss: 1432.40302240\n",
      "====> Epoch: 2 Average Validation loss: 1431.17214687\n",
      "====> Epoch: 3 Average Training loss: 1424.81610799\n",
      "====> Epoch: 3 Average Validation loss: 1424.31104688\n",
      "====> Epoch: 4 Average Training loss: 1417.73958194\n",
      "====> Epoch: 4 Average Validation loss: 1416.85282188\n",
      "====> Epoch: 5 Average Training loss: 1410.67937934\n",
      "====> Epoch: 5 Average Validation loss: 1410.53023594\n",
      "====> Epoch: 6 Average Training loss: 1404.47765538\n",
      "====> Epoch: 6 Average Validation loss: 1406.07308281\n",
      "====> Epoch: 7 Average Training loss: 1399.41370538\n",
      "====> Epoch: 7 Average Validation loss: 1400.95118594\n",
      "====> Epoch: 8 Average Training loss: 1395.05193872\n",
      "====> Epoch: 8 Average Validation loss: 1396.83396094\n",
      "====> Epoch: 9 Average Training loss: 1391.39989306\n",
      "====> Epoch: 9 Average Validation loss: 1394.29092188\n",
      "====> Epoch: 10 Average Training loss: 1388.41251788\n",
      "====> Epoch: 10 Average Validation loss: 1390.89174219\n",
      "====> Epoch: 11 Average Training loss: 1384.95297422\n",
      "====> Epoch: 11 Average Validation loss: 1390.57722344\n",
      "====> Epoch: 12 Average Training loss: 1382.48941207\n",
      "====> Epoch: 12 Average Validation loss: 1387.24399062\n",
      "====> Epoch: 13 Average Training loss: 1379.82004236\n",
      "====> Epoch: 13 Average Validation loss: 1384.92942187\n",
      "====> Epoch: 14 Average Training loss: 1378.04139063\n"
     ]
    },
    {
     "name": "stderr",
     "output_type": "stream",
     "text": [
      "2024/01/27 19:09:45 WARNING mlflow.utils.requirements_utils: Found torch version (2.1.2+cu118) contains a local version label (+cu118). MLflow logged a pip requirement for this package as 'torch==2.1.2' without the local version label to make it installable from PyPI. To specify pip requirements containing local version labels, please use `conda_env` or `pip_requirements`.\n"
     ]
    },
    {
     "name": "stdout",
     "output_type": "stream",
     "text": [
      "====> Epoch: 14 Average Validation loss: 1382.22387344\n"
     ]
    },
    {
     "name": "stderr",
     "output_type": "stream",
     "text": [
      "2024/01/27 19:09:54 WARNING mlflow.utils.requirements_utils: Found torchvision version (0.16.2+cu118) contains a local version label (+cu118). MLflow logged a pip requirement for this package as 'torchvision==0.16.2' without the local version label to make it installable from PyPI. To specify pip requirements containing local version labels, please use `conda_env` or `pip_requirements`.\n",
      "c:\\Users\\soupt\\anaconda3\\envs\\MPL\\lib\\site-packages\\_distutils_hack\\__init__.py:18: UserWarning: Distutils was imported before Setuptools, but importing Setuptools also replaces the `distutils` module in `sys.modules`. This may lead to undesirable behaviors or errors. To avoid these issues, avoid using distutils directly, ensure that setuptools is installed in the traditional way (e.g. not an editable install), and/or make sure that setuptools is always imported before distutils.\n",
      "  warnings.warn(\n",
      "c:\\Users\\soupt\\anaconda3\\envs\\MPL\\lib\\site-packages\\_distutils_hack\\__init__.py:33: UserWarning: Setuptools is replacing distutils.\n",
      "  warnings.warn(\"Setuptools is replacing distutils.\")\n"
     ]
    },
    {
     "name": "stdout",
     "output_type": "stream",
     "text": [
      "(1000, 25)\n"
     ]
    }
   ],
   "source": [
    "import mlflow\n",
    "from hyperparam_optim import HyperparameterOptimization\n",
    "from tracking import MLFlowTracker\n",
    "import itertools\n",
    "from visualize import visualize_latent_space_Eqn\n",
    "import gc\n",
    "import time\n",
    "\n",
    "hyperParamOptimization = HyperparameterOptimization('./hyperparameters/params.yaml')\n",
    "params = hyperParamOptimization.get_params()\n",
    "\n",
    "#mlflow.create_experiment('Character VAE Equation V2')\n",
    "mlflow.set_experiment('Character VAE Equation V2')\n",
    "\n",
    "hyperparameter_combinations = itertools.product(params.M_LATENTDIMENSION, params.T_NUMEPOCHS, params.T_LR, params.T_BATCHSIZE, params.T_LOSS, params.T_OPTIMIZER, params.T_TRAINVALIDRATIO)\n",
    "for i,combination in enumerate(hyperparameter_combinations):\n",
    "    # if i <= 1:\n",
    "    #     continue\n",
    "    mlflow.start_run()\n",
    "    latent_dim, num_epochs, lr, batch_size, loss_function, optimizer_name, train_valid_ratio = combination\n",
    "\n",
    "    # Initialize your model with the given latent dimension\n",
    "    # Model Initialization\n",
    "    alphabet_length = len(alphabet) + 1\n",
    "    MAX_SEQ_LEN = 21\n",
    "    model = None\n",
    "    model = EqnVAE(alphabet_length,MAX_SEQ_LEN,latent_rep_size=latent_dim,recon_loss=loss_function)\n",
    "    model.to(device)\n",
    "    #Loss\n",
    "    vaeLoss = None\n",
    "    vaeLoss = model.vae_loss\n",
    "    optimizer = None\n",
    "    if optimizer_name == 'Adam':\n",
    "        optimizer = torch.optim.Adam(model.parameters(), lr=lr)\n",
    "    elif optimizer_name == 'SGD':\n",
    "        optimizer = torch.optim.SGD(model.parameters(), lr=lr)\n",
    "    elif optimizer_name == 'Adadelta':\n",
    "        optimizer = torch.optim.Adadelta(model.parameters(), lr=lr)\n",
    "    elif optimizer_name == 'Adagrad':\n",
    "        optimizer = torch.optim.Adagrad(model.parameters(), lr=lr)\n",
    "    elif optimizer_name == 'RMSprop':\n",
    "        optimizer = torch.optim.RMSprop(model.parameters(),lr=lr)\n",
    "\n",
    "    total_samples = one_hot_encoded_training_tensor.shape[0]\n",
    "    valid_size = int(total_samples * train_valid_ratio)\n",
    "    train_size = total_samples - valid_size\n",
    "\n",
    "    train_tensor = one_hot_encoded_training_tensor[:train_size].clone().to(device)\n",
    "    valid_tensor = one_hot_encoded_training_tensor[train_size:].clone().to(device)\n",
    "    train_loader, val_loade = None, None\n",
    "    train_loader = DataLoader(dataset=train_tensor,\n",
    "                              batch_size=batch_size,\n",
    "                              shuffle=False)\n",
    "\n",
    "    val_loader = DataLoader(dataset=valid_tensor,\n",
    "                              batch_size=batch_size,\n",
    "                              shuffle=False)\n",
    "\n",
    "    # Log parameters to MLflow\n",
    "    mlflow.log_params({\n",
    "        \"latent_dimension\": latent_dim,\n",
    "        \"num_epochs\": num_epochs,\n",
    "        \"learning_rate\": lr,\n",
    "        \"batch_size\": batch_size,\n",
    "        \"loss_function\": loss_function,\n",
    "        \"optimizer\": optimizer_name,\n",
    "        \"train_valid_ratio\": train_valid_ratio\n",
    "    })\n",
    "\n",
    "    train_EqnVAE(model, train_loader, val_loader, vaeLoss, optimizer, num_epochs=num_epochs)\n",
    "\n",
    "    \n",
    "    torch.save(model,f'./saved/models/EQN_VAE_{latent_dim}_{batch_size}_{loss_function}_{lr}_{num_epochs}_{optimizer_name}_{train_valid_ratio}_Full.pth')\n",
    "    torch.save(model.state_dict(),f'./saved/models/EQN_VAE_{latent_dim}_{batch_size}_{loss_function}_{lr}_{num_epochs}_{optimizer_name}_{train_valid_ratio}_dict.pth')\n",
    "\n",
    "    # Save the model\n",
    "    mlflow.pytorch.log_model(model, \"model\")\n",
    "\n",
    "    test_tensor = one_hot_encoded_testing_tensor.clone().to(device)\n",
    "    test_dataset = TensorDataset(test_tensor)\n",
    "    test_loader = DataLoader(dataset=test_tensor,\n",
    "                              batch_size=batch_size,\n",
    "                              shuffle=False)             \n",
    "    model.to(device)\n",
    "    visualize_latent_space_Eqn(model, test_loader,True)\n",
    "    mlflow.log_artifact(\"./plots/LatentSpace_plot.png\", artifact_path=\"plots\")\n",
    "\n",
    "    one_hot_decoded = []\n",
    "    one_hot_decoded_recon = []\n",
    "    recon_losses = []\n",
    "    model.eval()\n",
    "    criterion = torch.nn.BCELoss(reduction='sum')\n",
    "    for sample in test_loader:\n",
    "        sample = sample.float().to(device)\n",
    "        recon, _, _ = model(sample)\n",
    "        for idx,ele in enumerate(recon):\n",
    "            recon_loss = criterion(ele,sample[idx])\n",
    "            max_indices = torch.argmax(ele, dim=1)\n",
    "            one_hot = torch.zeros_like(ele) \n",
    "            one_hot[torch.arange(ele.size(0)), max_indices] = 1\n",
    "            embd = torch.argmax(one_hot, dim=1)\n",
    "            one_hot_decoded.append(emb.decode(torch.argmax(sample[idx], dim=1)))\n",
    "            one_hot_decoded_recon.append(emb.decode(embd))\n",
    "            recon_losses.append(recon_loss)\n",
    "            recon_loss = 0\n",
    "\n",
    "        output_filename = f\"./output/output_{latent_dim}_{batch_size}_{loss_function}_{lr}_{num_epochs}_{optimizer_name}_{train_valid_ratio}.txt\"\n",
    "        with open(output_filename, \"w\") as file:\n",
    "            for idx, ele in enumerate(one_hot_decoded_recon[:1000]):\n",
    "                actual_equation = ''.join(one_hot_decoded[idx])\n",
    "                decoded_equation = ''.join(one_hot_decoded_recon[idx])\n",
    "                file.write(f'Actual Equation: {actual_equation}\\n')\n",
    "                file.write(f'VAE Decoded Equation: {decoded_equation}\\n')\n",
    "                file.write(f'VAE Reconstruction Loss: {recon_losses[idx]}\\n\\n')\n",
    "\n",
    "        # Log the file as an artifact in MLflow\n",
    "        mlflow.log_artifact(output_filename, artifact_path=\"outputs\")\n",
    "\n",
    "    \n",
    "    # Clear memory\n",
    "    gc.collect()\n",
    "    if torch.cuda.is_available():\n",
    "        torch.cuda.empty_cache()  # Clear cached memory\n",
    "        torch.cuda.manual_seed_all(42)  # Re-seed\n",
    "\n",
    "    # Wait for 5-10 seconds before the next run\n",
    "    \n",
    "    # End MLflow run\n",
    "    mlflow.end_run()\n",
    "    time.sleep(5)  # Sleep for 5 seconds"
   ]
  },
  {
   "cell_type": "markdown",
   "metadata": {},
   "source": [
    "## Grammar VAE"
   ]
  },
  {
   "cell_type": "markdown",
   "metadata": {},
   "source": [
    "### Embed Equations to Rule"
   ]
  },
  {
   "cell_type": "code",
   "execution_count": 4,
   "metadata": {},
   "outputs": [
    {
     "data": {
      "text/plain": [
       "{0: \"S -> S '+' T\",\n",
       " 1: \"S -> S '*' T\",\n",
       " 2: \"S -> S '/' T\",\n",
       " 3: \"S -> S '-' T\",\n",
       " 4: 'S -> T',\n",
       " 5: \"T -> '(' S ')'\",\n",
       " 6: \"T -> 'sin' '(' S ')'\",\n",
       " 7: \"T -> 'exp' '(' S ')'\",\n",
       " 8: \"T -> 'cos' '(' S ')'\",\n",
       " 9: \"T -> 'sqrt' '(' S ')'\",\n",
       " 10: \"T -> 'log' '(' S ')'\",\n",
       " 11: \"T -> 'x'\",\n",
       " 12: \"T -> '1'\",\n",
       " 13: \"T -> '2'\",\n",
       " 14: \"T -> '3'\",\n",
       " 15: \"Nothing -> 'None'\"}"
      ]
     },
     "execution_count": 4,
     "metadata": {},
     "output_type": "execute_result"
    }
   ],
   "source": [
    "#Rules Embedding\n",
    "data = CFGEquationDataset()\n",
    "cfg = data.get_grammar()\n",
    "emb = RuleTokenEmbedding(cfg=cfg,one_hot_encode=True)\n",
    "emb.rule_to_idx\n",
    "emb.idx_to_rule"
   ]
  },
  {
   "cell_type": "markdown",
   "metadata": {},
   "source": [
    "### Intializing Grammar Masks and Mask Index for Introducing into Model"
   ]
  },
  {
   "cell_type": "code",
   "execution_count": 5,
   "metadata": {},
   "outputs": [
    {
     "name": "stdout",
     "output_type": "stream",
     "text": [
      "[[0, 1], [0, 1], [0, 1], [0, 1], [1], [0], [0], [0], [0], [0], [0], [], [], [], [], []]\n",
      "[[1. 1. 1. 1. 1. 0. 0. 0. 0. 0. 0. 0. 0. 0. 0. 0.]\n",
      " [0. 0. 0. 0. 0. 1. 1. 1. 1. 1. 1. 1. 1. 1. 1. 0.]\n",
      " [0. 0. 0. 0. 0. 0. 0. 0. 0. 0. 0. 0. 0. 0. 0. 1.]]\n",
      "[0 0 0 0 0 1 1 1 1 1 1 1 1 1 1 2]\n"
     ]
    }
   ],
   "source": [
    "import nltk\n",
    "# Parsing the grammar to create masks and indices\n",
    "all_lhs = [a.lhs().symbol() for a in cfg.productions()]\n",
    "lhs_list = []\n",
    "for a in all_lhs:\n",
    "    if a not in lhs_list:\n",
    "        lhs_list.append(a)\n",
    "D = len(cfg.productions())\n",
    "\n",
    "rhs_map = [None] * D\n",
    "for i, production in enumerate(cfg.productions()):\n",
    "    rhs_map[i] = [lhs_list.index(b.symbol()) for b in production.rhs() if (isinstance(b, nltk.Nonterminal) and b.symbol()!='None')]\n",
    "\n",
    "print(rhs_map)\n",
    "\n",
    "masks = np.zeros((len(lhs_list), D))\n",
    "for i, lhs in enumerate(lhs_list):\n",
    "    masks[i] = [lhs == production.lhs().symbol() for production in cfg.productions()]\n",
    "\n",
    "print(masks)\n",
    "ind_of_ind = np.array([np.where(masks[:, i] == 1)[0][0] for i in range(masks.shape[1])])\n",
    "print(ind_of_ind)\n",
    "# Convert numpy arrays to torch tensors\n",
    "masks_tensor = torch.from_numpy(masks).float()\n",
    "ind_of_ind_tensor = torch.from_numpy(ind_of_ind).long()"
   ]
  },
  {
   "cell_type": "markdown",
   "metadata": {},
   "source": [
    "#### Example Encoding of an equation"
   ]
  },
  {
   "cell_type": "code",
   "execution_count": 6,
   "metadata": {},
   "outputs": [
    {
     "data": {
      "text/plain": [
       "[array([0., 1., 0., 0., 0., 0., 0., 0., 0., 0., 0., 0., 0., 0., 0., 0.]),\n",
       " array([0., 0., 0., 0., 1., 0., 0., 0., 0., 0., 0., 0., 0., 0., 0., 0.]),\n",
       " array([0., 0., 0., 0., 0., 0., 0., 0., 0., 1., 0., 0., 0., 0., 0., 0.]),\n",
       " array([0., 0., 0., 0., 1., 0., 0., 0., 0., 0., 0., 0., 0., 0., 0., 0.]),\n",
       " array([0., 0., 0., 0., 0., 0., 0., 0., 0., 0., 1., 0., 0., 0., 0., 0.]),\n",
       " array([0., 1., 0., 0., 0., 0., 0., 0., 0., 0., 0., 0., 0., 0., 0., 0.]),\n",
       " array([0., 0., 0., 0., 1., 0., 0., 0., 0., 0., 0., 0., 0., 0., 0., 0.]),\n",
       " array([0., 0., 0., 0., 0., 0., 0., 0., 0., 0., 0., 1., 0., 0., 0., 0.]),\n",
       " array([0., 0., 0., 0., 0., 0., 0., 0., 1., 0., 0., 0., 0., 0., 0., 0.]),\n",
       " array([0., 0., 0., 0., 1., 0., 0., 0., 0., 0., 0., 0., 0., 0., 0., 0.]),\n",
       " array([0., 0., 0., 0., 0., 0., 0., 0., 0., 0., 0., 0., 0., 1., 0., 0.]),\n",
       " array([0., 0., 0., 0., 0., 0., 0., 0., 0., 0., 0., 1., 0., 0., 0., 0.]),\n",
       " array([0., 0., 0., 0., 0., 0., 0., 0., 0., 0., 0., 0., 0., 0., 0., 1.]),\n",
       " array([0., 0., 0., 0., 0., 0., 0., 0., 0., 0., 0., 0., 0., 0., 0., 1.]),\n",
       " array([0., 0., 0., 0., 0., 0., 0., 0., 0., 0., 0., 0., 0., 0., 0., 1.]),\n",
       " array([0., 0., 0., 0., 0., 0., 0., 0., 0., 0., 0., 0., 0., 0., 0., 1.])]"
      ]
     },
     "execution_count": 6,
     "metadata": {},
     "output_type": "execute_result"
    }
   ],
   "source": [
    "eqn = ['sqrt','(','log','(','x','*','cos','(','2',')',')',')','*','x']\n",
    "encoded_gram_eqn = emb.embed(eqn)\n",
    "encoded_gram_eqn\n"
   ]
  },
  {
   "cell_type": "markdown",
   "metadata": {},
   "source": [
    "### Grammar VAE Initialization"
   ]
  },
  {
   "cell_type": "code",
   "execution_count": 7,
   "metadata": {},
   "outputs": [
    {
     "data": {
      "text/plain": [
       "16"
      ]
     },
     "execution_count": 7,
     "metadata": {},
     "output_type": "execute_result"
    }
   ],
   "source": [
    "num_rules = len(cfg.productions())\n",
    "num_rules"
   ]
  },
  {
   "cell_type": "code",
   "execution_count": 8,
   "metadata": {},
   "outputs": [
    {
     "name": "stdout",
     "output_type": "stream",
     "text": [
      "Device cuda\n"
     ]
    }
   ],
   "source": [
    "from models import EqnGVAE\n",
    "from train import train_EqnGVAE"
   ]
  },
  {
   "cell_type": "markdown",
   "metadata": {},
   "source": [
    "### Data Preparation for GVAE"
   ]
  },
  {
   "cell_type": "code",
   "execution_count": 16,
   "metadata": {},
   "outputs": [],
   "source": [
    "training_val_gvae_dataset = CFGEquationDataset(\n",
    "        n_samples=100000,\n",
    "        transform=Compose([\n",
    "            RuleTokenEmbedding(cfg,max_num_rules=16,one_hot_encode=True),\n",
    "            ToTensor(dtype=torch.uint8)\n",
    "        ]))\n",
    "\n",
    "#Batch Size:\n",
    "batch_size = 100\n",
    "MAX_PROD_LEN = 16\n",
    "\n",
    "test_gvae_dataset = CFGEquationDataset(\n",
    "        n_samples=10000,\n",
    "        transform=Compose([\n",
    "            RuleTokenEmbedding(cfg,max_num_rules=16,one_hot_encode=True),\n",
    "            ToTensor(dtype=torch.uint8)\n",
    "        ]))\n"
   ]
  },
  {
   "cell_type": "markdown",
   "metadata": {},
   "source": [
    "#### Training of GVAE"
   ]
  },
  {
   "cell_type": "code",
   "execution_count": 10,
   "metadata": {},
   "outputs": [],
   "source": [
    "mlflow.end_run()"
   ]
  },
  {
   "cell_type": "code",
   "execution_count": null,
   "metadata": {},
   "outputs": [],
   "source": [
    "import mlflow\n",
    "from hyperparam_optim import HyperparameterOptimization\n",
    "from tracking import MLFlowTracker\n",
    "import itertools\n",
    "from visualize import visualize_latent_space_Eqn\n",
    "import gc\n",
    "import time\n",
    "from torch.utils.data import random_split\n",
    "\n",
    "hyperParamOptimization = HyperparameterOptimization('./hyperparameters/params.yaml')\n",
    "params = hyperParamOptimization.get_params()\n",
    "\n",
    "#mlflow.create_experiment('Character VAE Equation V2')\n",
    "mlflow.set_experiment('Grammar VAE Equation V1')\n",
    "\n",
    "hyperparameter_combinations = itertools.product(params.M_LATENTDIMENSION, params.T_NUMEPOCHS, params.T_LR, params.T_BATCHSIZE, params.T_LOSS, params.T_OPTIMIZER, params.T_TRAINVALIDRATIO)\n",
    "for i,combination in enumerate(hyperparameter_combinations):\n",
    "    # if i <= 1:\n",
    "    #     continue\n",
    "    mlflow.start_run()\n",
    "    latent_dim, num_epochs, lr, batch_size, loss_function, optimizer_name, train_valid_ratio = combination\n",
    "\n",
    "    # Initialize your model with the given latent dimension\n",
    "    # Model Initialization\n",
    "    model = None\n",
    "    model = EqnGVAE(num_rules,MAX_PROD_LEN,masks_tensor=masks_tensor,ind_of_masks=ind_of_ind_tensor)\n",
    "    model.to(device)\n",
    "    #Loss\n",
    "    vaeLoss = None\n",
    "    vaeLoss = model.vae_loss\n",
    "    optimizer = None\n",
    "    if optimizer_name == 'Adam':\n",
    "        optimizer = torch.optim.Adam(model.parameters(), lr=lr)\n",
    "    elif optimizer_name == 'SGD':\n",
    "        optimizer = torch.optim.SGD(model.parameters(), lr=lr)\n",
    "    elif optimizer_name == 'Adadelta':\n",
    "        optimizer = torch.optim.Adadelta(model.parameters(), lr=lr)\n",
    "    elif optimizer_name == 'Adagrad':\n",
    "        optimizer = torch.optim.Adagrad(model.parameters(), lr=lr)\n",
    "    elif optimizer_name == 'RMSprop':\n",
    "        optimizer = torch.optim.RMSprop(model.parameters(),lr=lr)\n",
    "\n",
    "\n",
    "\n",
    "    total_samples = len(training_val_gvae_dataset)\n",
    "    valid_size = int(total_samples * train_valid_ratio)\n",
    "    train_size = total_samples - valid_size\n",
    "\n",
    "    train_dataset, valid_dataset = random_split(training_val_gvae_dataset, [train_size, valid_size])\n",
    "    train_loader, val_loader = None, None\n",
    "    train_loader = DataLoader(dataset=train_dataset,\n",
    "                              batch_size=batch_size,\n",
    "                              shuffle=True)\n",
    "\n",
    "    val_loader = DataLoader(dataset=valid_dataset,\n",
    "                              batch_size=batch_size,\n",
    "                              shuffle=True)\n",
    "\n",
    "    # Log parameters to MLflow\n",
    "    mlflow.log_params({\n",
    "        \"latent_dimension\": latent_dim,\n",
    "        \"num_epochs\": num_epochs,\n",
    "        \"learning_rate\": lr,\n",
    "        \"batch_size\": batch_size,\n",
    "        \"loss_function\": loss_function,\n",
    "        \"optimizer\": optimizer_name,\n",
    "        \"train_valid_ratio\": train_valid_ratio\n",
    "    })\n",
    "\n",
    "    train_EqnGVAE(model, train_loader, val_loader, vaeLoss, optimizer, num_epochs=num_epochs)\n",
    "\n",
    "    \n",
    "    torch.save(model,f'./saved/models/EQN_GVAE_{latent_dim}_{batch_size}_{loss_function}_{lr}_{num_epochs}_{optimizer_name}_{train_valid_ratio}_Full.pth')\n",
    "    torch.save(model.state_dict(),f'./saved/models/EQN_GVAE_{latent_dim}_{batch_size}_{loss_function}_{lr}_{num_epochs}_{optimizer_name}_{train_valid_ratio}_dict.pth')\n",
    "\n",
    "    # Save the model\n",
    "    mlflow.pytorch.log_model(model, \"model\")\n",
    "\n",
    "    test_dataset = test_gvae_dataset\n",
    "    test_loader = DataLoader(dataset=test_dataset,\n",
    "                              batch_size=batch_size,\n",
    "                              shuffle=False)             \n",
    "    model.to(device)\n",
    "    visualize_latent_space_EqnGVAE(model,test_loader,max_num_rules=16,cfg=cfg,vae=True)\n",
    "    mlflow.log_artifact(\"./plots/LatentSpace_plot.png\", artifact_path=\"plots\")\n",
    "\n",
    "    one_hot_decoded = []\n",
    "    one_hot_decoded_recon = []\n",
    "    for sample in test_loader:\n",
    "        model.eval()\n",
    "        sample = sample.float().to(device)\n",
    "        recon, _, _ = model(sample)\n",
    "        for idx,ele in enumerate(recon):\n",
    "            one_hot_decoded.append(emb.decode(sample.cpu().numpy()))\n",
    "            one_hot_decoded_recon.append(emb.decode(recon[i].cpu().detach().numpy()))\n",
    "            #break\n",
    "\n",
    "        output_filename = f\"./output/output_{latent_dim}_{batch_size}_{loss_function}_{lr}_{num_epochs}_{optimizer_name}_{train_valid_ratio}.txt\"\n",
    "        with open(output_filename, \"w\") as file:\n",
    "            for idx, ele in enumerate(one_hot_decoded_recon):\n",
    "                actual_equation = ''.join(one_hot_decoded[idx])\n",
    "                decoded_equation = ''.join(one_hot_decoded_recon[idx])\n",
    "                file.write(f'Actual Equation: {actual_equation}\\n')\n",
    "                file.write(f'GVAE Decoded Equation: {decoded_equation}\\n\\n')\n",
    "\n",
    "        # Log the file as an artifact in MLflow\n",
    "        mlflow.log_artifact(output_filename, artifact_path=\"outputs\")\n",
    "\n",
    "    \n",
    "    # Clear memory\n",
    "    gc.collect()\n",
    "    if torch.cuda.is_available():\n",
    "        torch.cuda.empty_cache()  # Clear cached memory\n",
    "        torch.cuda.manual_seed_all(42)  # Re-seed\n",
    "\n",
    "    # Wait for 5-10 seconds before the next run\n",
    "    \n",
    "    # End MLflow run\n",
    "    mlflow.end_run()\n",
    "    time.sleep(5)  # Sleep for 5 seconds"
   ]
  },
  {
   "cell_type": "code",
   "execution_count": 17,
   "metadata": {},
   "outputs": [],
   "source": [
    "model_GVAE = torch.load('./saved/models/EQN_GVAE_25_200_BCE_0.001_30_Adam_0.1_Full.pth')"
   ]
  },
  {
   "cell_type": "code",
   "execution_count": 18,
   "metadata": {},
   "outputs": [],
   "source": [
    "from eval import *\n"
   ]
  },
  {
   "cell_type": "code",
   "execution_count": 19,
   "metadata": {},
   "outputs": [],
   "source": [
    "test_dataset = test_gvae_dataset\n",
    "test_loader = DataLoader(dataset=test_dataset,\n",
    "                            batch_size=batch_size,\n",
    "                            shuffle=False)   "
   ]
  },
  {
   "cell_type": "code",
   "execution_count": 13,
   "metadata": {},
   "outputs": [
    {
     "name": "stderr",
     "output_type": "stream",
     "text": [
      "c:\\Users\\soupt\\OneDrive - stud.uni-stuttgart.de\\AI LAB\\Project\\Repo\\ac_dll_grammar_vae\\data\\transforms.py:50: UserWarning: Creating a tensor from a list of numpy.ndarrays is extremely slow. Please consider converting the list to a single numpy.ndarray with numpy.array() before converting to a tensor. (Triggered internally at C:\\actions-runner\\_work\\pytorch\\pytorch\\builder\\windows\\pytorch\\torch\\csrc\\utils\\tensor_new.cpp:264.)\n",
      "  return torch.tensor(x, dtype=self.dtype)\n"
     ]
    }
   ],
   "source": [
    "\n",
    "equations_rules_decoded, equations_rules_actual, recon_losses = sample_fromGVAE(model_GVAE,test_loader,masks_tensor,ind_of_ind_tensor,max_length=16,num_rules=16,emb=emb)"
   ]
  },
  {
   "cell_type": "code",
   "execution_count": 14,
   "metadata": {},
   "outputs": [],
   "source": [
    "emb_dec = RuleTokenEmbedding(cfg=cfg,one_hot_encode=False)\n",
    "output_filename = f\"./output/output_rule_GVAE_{25}_200_BCE_0.001_30_Adam_0.1.txt\"\n",
    "with open(output_filename, \"w\") as file:\n",
    "    for idx, rule_decoded in enumerate(equations_rules_decoded):\n",
    "        file.write(f'Actual Equation Rules: {equations_rules_actual[idx]}\\n')\n",
    "        file.write(f'GVAE Decoded Equation Rules: {rule_decoded}\\n')\n",
    "        file.write(f'Recontruction Loss: {recon_losses[idx]}\\n\\n')\n",
    "output_filename = f\"./output/output_GVAE_{25}_200_BCE_0.001_30_Adam_0.1.txt\"\n",
    "with open(output_filename, \"w\") as file:\n",
    "    for idx, ele in enumerate(equations_rules_decoded):\n",
    "        actual_equation = ''.join(emb_dec.decode_from_sampled_rules(equations_rules_actual[idx]))\n",
    "        decoded_equation = ''.join(emb_dec.decode_from_sampled_rules(ele))\n",
    "        file.write(f'Actual Equation: {actual_equation}\\n')\n",
    "        file.write(f'GVAE Decoded Equation: {decoded_equation}\\n')\n",
    "        file.write(f'Recontruction Loss: {recon_losses[idx]}\\n\\n')"
   ]
  },
  {
   "cell_type": "code",
   "execution_count": 22,
   "metadata": {},
   "outputs": [
    {
     "name": "stdout",
     "output_type": "stream",
     "text": [
      "(10000, 25)\n",
      "[1467, 5404, 3136, 9729, 5757, 3770, 1664, 9787, 8058, 4682, 5552, 7346, 7849, 9296, 9624, 9566, 2334, 7775, 5201, 406, 5666, 1862, 8891, 8570, 3877, 2620, 4195, 4779, 2654, 3167, 1152, 5518, 9501, 6020, 9044, 6039, 2560, 1369, 6522, 1825, 629, 9801, 8992, 6936, 7971, 6727, 3670, 8057, 4911, 3714]\n"
     ]
    },
    {
     "data": {
      "image/png": "[encoded data removed]",
      "text/plain": [
       "<Figure size 640x480 with 1 Axes>"
      ]
     },
     "metadata": {},
     "output_type": "display_data"
    }
   ],
   "source": [
    "model_GVAE.to(device)\n",
    "visualize_latent_space_Eqn_PCA(model_GVAE, test_loader,True,True,cfg,n=50)\n",
    "#vis_interpolation(model,test_loader,vae=True)"
   ]
  }
 ],
 "metadata": {
  "kernelspec": {
   "display_name": "MPL",
   "language": "python",
   "name": "python3"
  },
  "language_info": {
   "codemirror_mode": {
    "name": "ipython",
    "version": 3
   },
   "file_extension": ".py",
   "mimetype": "text/x-python",
   "name": "python",
   "nbconvert_exporter": "python",
   "pygments_lexer": "ipython3",
   "version": "3.8.5"
  }
 },
 "nbformat": 4,
 "nbformat_minor": 2
}
